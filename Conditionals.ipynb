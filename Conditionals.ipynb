{
 "cells": [
  {
   "cell_type": "markdown",
   "id": "4cf43641-378b-42af-ba11-1bf2fe9b9080",
   "metadata": {},
   "source": [
    "### NUMBERS\n",
    "Integers: whole numbers\n",
    "Floats: decimal point numbers"
   ]
  },
  {
   "cell_type": "code",
   "execution_count": 4,
   "id": "396d7b66-5551-4041-a4f6-e2dcf02f7b1a",
   "metadata": {
    "tags": []
   },
   "outputs": [
    {
     "data": {
      "text/plain": [
       "int"
      ]
     },
     "execution_count": 4,
     "metadata": {},
     "output_type": "execute_result"
    }
   ],
   "source": [
    "#integers\n",
    "a= 5000\n",
    "type(a)"
   ]
  },
  {
   "cell_type": "code",
   "execution_count": 3,
   "id": "6b656252-7cc8-493c-950a-4cd345ab4415",
   "metadata": {},
   "outputs": [
    {
     "data": {
      "text/plain": [
       "float"
      ]
     },
     "execution_count": 3,
     "metadata": {},
     "output_type": "execute_result"
    }
   ],
   "source": [
    "#floats\n",
    "b=6.95\n",
    "type(b)"
   ]
  },
  {
   "cell_type": "code",
   "execution_count": 11,
   "id": "67fc08f3-509c-4463-9ee4-dcd5d1dd56fb",
   "metadata": {},
   "outputs": [
    {
     "name": "stdout",
     "output_type": "stream",
     "text": [
      "2\n",
      "-4\n",
      "12\n",
      "32\n",
      "1.8\n",
      "1\n",
      "4\n"
     ]
    }
   ],
   "source": [
    "#addition\n",
    "print(1+1)\n",
    "\n",
    "#subtraction\n",
    "print(2-6)\n",
    "\n",
    "#multiplication\n",
    "print(2*6)\n",
    "\n",
    "#power\n",
    "print(2**5)\n",
    "\n",
    "#division\n",
    "print(9/5)  #normal division\n",
    "print(9//5) #quotient-whole number less remainder\n",
    "print(9%5)  #remainder\n",
    "\n",
    "\n",
    "\n"
   ]
  },
  {
   "cell_type": "markdown",
   "id": "ea1e7130-5d11-4924-b715-21fee71edfaa",
   "metadata": {},
   "source": [
    "### Multiple Assignments"
   ]
  },
  {
   "cell_type": "code",
   "execution_count": 12,
   "id": "2ba53285-7778-412e-8752-976fb2518f4a",
   "metadata": {
    "tags": []
   },
   "outputs": [
    {
     "name": "stdout",
     "output_type": "stream",
     "text": [
      "15\n"
     ]
    }
   ],
   "source": [
    "x = 5\n",
    "y = 4\n",
    "g,h = 15, 20\n",
    "print(g)"
   ]
  },
  {
   "cell_type": "code",
   "execution_count": 13,
   "id": "cc375ec7-72e5-4640-baa1-916674232780",
   "metadata": {
    "tags": []
   },
   "outputs": [
    {
     "name": "stdout",
     "output_type": "stream",
     "text": [
      "1\n"
     ]
    }
   ],
   "source": [
    "# Leave days\n",
    "leave_days = 0\n",
    "leave_days= leave_days + 1\n",
    "print(leave_days)"
   ]
  },
  {
   "cell_type": "code",
   "execution_count": 14,
   "id": "d4f6c73a-0f26-403e-a4fb-94f6d885ef04",
   "metadata": {
    "tags": []
   },
   "outputs": [
    {
     "name": "stdout",
     "output_type": "stream",
     "text": [
      "2\n"
     ]
    }
   ],
   "source": [
    "#incrementing variable by value\n",
    "leave_days +=1\n",
    "print(leave_days)"
   ]
  },
  {
   "cell_type": "code",
   "execution_count": 15,
   "id": "a5ec5a6d-f5dc-46a3-8ffb-fc0bb4b4b23b",
   "metadata": {
    "tags": []
   },
   "outputs": [
    {
     "name": "stdout",
     "output_type": "stream",
     "text": [
      "1\n"
     ]
    }
   ],
   "source": [
    "#decrement variable by value\n",
    "leave_days -=1\n",
    "print(leave_days)"
   ]
  },
  {
   "cell_type": "markdown",
   "id": "d2d358eb-a9fa-4802-a01a-024d7d4dff5e",
   "metadata": {},
   "source": [
    "### Conditions\n",
    "3 condition statements in python: if, elif, else "
   ]
  },
  {
   "cell_type": "code",
   "execution_count": 18,
   "id": "337eac6d-9402-464d-a16d-a17bf0c45ed2",
   "metadata": {
    "tags": []
   },
   "outputs": [
    {
     "name": "stdout",
     "output_type": "stream",
     "text": [
      "20\n"
     ]
    }
   ],
   "source": [
    "leave_days = 21\n",
    "take_leave = True\n",
    "if take_leave:\n",
    "    leave_days -=1\n",
    "    print(leave_days)"
   ]
  },
  {
   "cell_type": "code",
   "execution_count": 19,
   "id": "5986eb41-3761-462f-a641-a6718cd5bc41",
   "metadata": {
    "tags": []
   },
   "outputs": [
    {
     "name": "stdout",
     "output_type": "stream",
     "text": [
      "You can have Id\n"
     ]
    }
   ],
   "source": [
    "age =20\n",
    "if age> 18: #condition\n",
    "    print(\"You can have Id\")"
   ]
  },
  {
   "cell_type": "code",
   "execution_count": 4,
   "id": "b12f0058-1b19-4edb-a2dc-bacbf4ad539c",
   "metadata": {
    "tags": []
   },
   "outputs": [
    {
     "name": "stdout",
     "output_type": "stream",
     "text": [
      "Pass\n"
     ]
    }
   ],
   "source": [
    "#if else statement to determine if students have passed or failed\n",
    "score =45\n",
    "\n",
    "#because the score is above 40, only the if statement will be executed\n",
    "if score > 40:\n",
    "    outcome = \"Pass\"\n",
    "    print(outcome)\n",
    "else: \n",
    "        outcome =\"Fail\"\n",
    "        print(outcome)"
   ]
  },
  {
   "cell_type": "code",
   "execution_count": 25,
   "id": "d01e8f8c-a4fd-41a4-9ef0-115c4d89cb17",
   "metadata": {
    "tags": []
   },
   "outputs": [
    {
     "name": "stdout",
     "output_type": "stream",
     "text": [
      "Fail\n"
     ]
    }
   ],
   "source": [
    "#if else statement to determine if students have passed or failed\n",
    "#when student scores less than 40\n",
    "score =15\n",
    "if score > 40:\n",
    "    outcome = \"Pass\"\n",
    "    print(outcome)\n",
    "else: \n",
    "        outcome =\"Fail\"\n",
    "        print(outcome)"
   ]
  },
  {
   "cell_type": "markdown",
   "id": "95c055a1-174e-495b-a5a4-c6f29bb3f3ed",
   "metadata": {},
   "source": [
    "## And\n",
    "* used to join two or more conditions\n",
    "*example students who score above 40 but below 50 are said to have attained grade D\n",
    "**Note** For **and** both/all the conditions have to be true for the condition to be true\n"
   ]
  },
  {
   "cell_type": "code",
   "execution_count": 6,
   "id": "3ba4c8c7-0f6f-41b5-9cd8-cbb6df07335b",
   "metadata": {
    "tags": []
   },
   "outputs": [
    {
     "name": "stdout",
     "output_type": "stream",
     "text": [
      "Boy\n"
     ]
    }
   ],
   "source": [
    "age = 12\n",
    "gender = 'Male'\n",
    "\n",
    "if age < 18 and gender == 'Male':  #both conditions have to be true\n",
    "    print('Boy')\n",
    "\n",
    "    "
   ]
  },
  {
   "cell_type": "code",
   "execution_count": 26,
   "id": "1b1c66a3-4625-4527-8d84-d9038d5d73c5",
   "metadata": {
    "tags": []
   },
   "outputs": [],
   "source": [
    "#if one condition is met, the statement has no output, since there's no alternative\n",
    "\n",
    "age = 18\n",
    "gender = 'Male'\n",
    "\n",
    "if age < 18 and gender == 'Male':\n",
    "    print('Boy')\n",
    "\n",
    "    "
   ]
  },
  {
   "cell_type": "markdown",
   "id": "aca1b447-7c3e-456f-88ce-12a9fe4ff29f",
   "metadata": {},
   "source": [
    "Summary\n",
    "\n",
    "|Condition 1|Condition 2|Final Condition|\n",
    "|:.........:|:.........:|:.............:|\n",
    "|True|True|True|\n",
    "|True|False|False|\n",
    "|False|True|False|\n",
    "|False|False|False\n",
    "\n",
    "\n"
   ]
  },
  {
   "cell_type": "code",
   "execution_count": null,
   "id": "8847326f-be61-444f-b84a-4ed01770dd42",
   "metadata": {},
   "outputs": [],
   "source": [
    "\n",
    "* above 40 >> D\n",
    "* above 50 >> C\n",
    "* above 60 >> B\n",
    "* above 70 >> A\n",
    "* below 40 >> Fail\n"
   ]
  },
  {
   "cell_type": "code",
   "execution_count": 28,
   "id": "fd70d52d-8190-43a8-be2c-7b4eaeca7dcd",
   "metadata": {
    "tags": []
   },
   "outputs": [
    {
     "name": "stdout",
     "output_type": "stream",
     "text": [
      "D\n"
     ]
    }
   ],
   "source": [
    "#grades\n",
    "grade = 67\n",
    "if grade >=40:\n",
    "    grade = \"D\"\n",
    "    print(grade)"
   ]
  },
  {
   "cell_type": "code",
   "execution_count": 38,
   "id": "7316e01c-8e7f-49d1-8a56-e5b0ca5c6deb",
   "metadata": {
    "tags": []
   },
   "outputs": [
    {
     "name": "stdout",
     "output_type": "stream",
     "text": [
      "A\n"
     ]
    }
   ],
   "source": [
    "# grades\n",
    "grade = 85\n",
    "   \n",
    "if grade >= 40 and grade < 50:\n",
    "    grade = \"D\"\n",
    "    print(grade) \n",
    "    \n",
    "    #elif statement (else if)\n",
    "    \n",
    "elif (grade >= 50) and (grade < 60):\n",
    "    grade = \"C\"\n",
    "    print(grade)\n",
    "    \n",
    "elif(grade >= 60) and (grade < 70):\n",
    "        grade = \"B\"\n",
    "        print(grade)   \n",
    "        \n",
    "elif(grade >= 70): \n",
    "        grade = \"A\"\n",
    "        print(grade)   \n",
    "else:\n",
    "        print('Fail')"
   ]
  },
  {
   "cell_type": "markdown",
   "id": "d989dae4-db5e-4555-bb9d-f280fb68eeec",
   "metadata": {},
   "source": [
    "### OR\n",
    "*used to join conditions\n",
    "*at least one condition should be True"
   ]
  },
  {
   "cell_type": "code",
   "execution_count": 12,
   "id": "7cf9c869-6492-4c43-97f6-34700cc5683b",
   "metadata": {
    "tags": []
   },
   "outputs": [
    {
     "name": "stdout",
     "output_type": "stream",
     "text": [
      "You can go into the bouncing castle\n"
     ]
    }
   ],
   "source": [
    "height = 45\n",
    "weight = 20 \n",
    "if (height < 40) or (weight <50):\n",
    "    print(\"You can go into the bouncing castle\")"
   ]
  },
  {
   "cell_type": "code",
   "execution_count": null,
   "id": "92b9aa2c-5198-4cae-a885-018ed689f044",
   "metadata": {},
   "outputs": [],
   "source": []
  }
 ],
 "metadata": {
  "kernelspec": {
   "display_name": "Python 3 (ipykernel)",
   "language": "python",
   "name": "python3"
  },
  "language_info": {
   "codemirror_mode": {
    "name": "ipython",
    "version": 3
   },
   "file_extension": ".py",
   "mimetype": "text/x-python",
   "name": "python",
   "nbconvert_exporter": "python",
   "pygments_lexer": "ipython3",
   "version": "3.11.3"
  }
 },
 "nbformat": 4,
 "nbformat_minor": 5
}
