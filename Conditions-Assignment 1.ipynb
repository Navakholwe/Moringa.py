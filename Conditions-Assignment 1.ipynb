{
 "cells": [
  {
   "cell_type": "markdown",
   "id": "6778f1f8-b857-4c30-84e7-4ddbbe8222af",
   "metadata": {},
   "source": [
    "1. Write a program that determines whether a number is even or odd. Print a message indicating whether the number is even or odd.\n",
    "2. Write a program that checks if a given year is a leap year. A leap year is divisible by 4, but not divisible by 100, except if its divisible by 400.\n",
    "3. Write a program that will use age to determine the price of a movie theater.\n",
    "Age < 13  price Ksh 400\n",
    "13 <= Age <=17 Ksh 600\n",
    "18 <= Age 65 <= Ksh 800\n",
    "Age > 65 Ksh 350"
   ]
  },
  {
   "cell_type": "code",
   "execution_count": 4,
   "id": "97676c83-df02-417b-87da-3bf5bb70fe0d",
   "metadata": {
    "tags": []
   },
   "outputs": [
    {
     "name": "stdout",
     "output_type": "stream",
     "text": [
      "800\n"
     ]
    }
   ],
   "source": [
    "#Question 3\n",
    "Age = 57\n",
    "if Age <13: \n",
    "    price = \"400\"\n",
    "    print(price)\n",
    "elif Age >=13 and Age <=17:\n",
    "    price = \"600\"\n",
    "    print(price)\n",
    "elif Age >=18 and Age <=65:\n",
    "    price = \"800\"\n",
    "    print(price)\n",
    "elif Age >65:\n",
    "    price = \"350\"\n",
    "    print(price)\n"
   ]
  },
  {
   "cell_type": "code",
   "execution_count": 24,
   "id": "d546678d-fbf4-436d-8735-5da71369b84a",
   "metadata": {},
   "outputs": [
    {
     "name": "stdout",
     "output_type": "stream",
     "text": [
      "Leap year\n"
     ]
    }
   ],
   "source": [
    "#Question 2\n",
    "Year = 1997\n",
    "if (Year % 4) and (Year % 400):\n",
    "    Year = \"Leap year\"\n",
    "\n",
    "    print(Year)\n",
    "else:\n",
    "    print(\"normal\")\n"
   ]
  },
  {
   "cell_type": "code",
   "execution_count": 10,
   "id": "1f1673c0-9c02-43d6-9b36-a935d185c2c9",
   "metadata": {
    "tags": []
   },
   "outputs": [
    {
     "name": "stdout",
     "output_type": "stream",
     "text": [
      "Odd\n"
     ]
    }
   ],
   "source": [
    "#Question 1\n",
    "Number = 31\n",
    "if (Number % 2 == 0):\n",
    "    Outcome = \"Even\"\n",
    "    print(Outcome)\n",
    "    \n",
    "else: \n",
    "    print(\"Odd\")"
   ]
  }
 ],
 "metadata": {
  "kernelspec": {
   "display_name": "Python 3 (ipykernel)",
   "language": "python",
   "name": "python3"
  },
  "language_info": {
   "codemirror_mode": {
    "name": "ipython",
    "version": 3
   },
   "file_extension": ".py",
   "mimetype": "text/x-python",
   "name": "python",
   "nbconvert_exporter": "python",
   "pygments_lexer": "ipython3",
   "version": "3.11.3"
  }
 },
 "nbformat": 4,
 "nbformat_minor": 5
}
