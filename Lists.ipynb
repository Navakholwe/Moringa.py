{
 "cells": [
  {
   "cell_type": "markdown",
   "id": "0e2355dd-8edc-41a0-9cdd-177ae28e069b",
   "metadata": {},
   "source": [
    "### List\n",
    "* A collection of items in a particular order\n",
    "* Can include strings, floats, integers and any other data types including a list\n",
    "* You can add anything in a list, even non-related items\n",
    "* use square brackets to indicate a list, individual items in the list are separated by commas.\n",
    "\n",
    "**syntax** ```[]```"
   ]
  },
  {
   "cell_type": "code",
   "execution_count": 1,
   "id": "31f7495a-2fa4-43e3-9ffe-b1182e5268f4",
   "metadata": {
    "tags": []
   },
   "outputs": [
    {
     "name": "stdout",
     "output_type": "stream",
     "text": [
      "['Mango', 'Apple', 'Pear', 'Orange']\n"
     ]
    }
   ],
   "source": [
    "#Example\n",
    "\n",
    "fruits = [\"Mango\",\"Apple\",\"Pear\",\"Orange\"]\n",
    "print(fruits)"
   ]
  },
  {
   "cell_type": "code",
   "execution_count": 2,
   "id": "c38ba517-95f4-422e-aee9-3cdfbde2d85c",
   "metadata": {
    "tags": []
   },
   "outputs": [
    {
     "name": "stdout",
     "output_type": "stream",
     "text": [
      "[254720707469, 254751631042, 254720631469]\n"
     ]
    }
   ],
   "source": [
    "phone_no = [254720707469, 254751631042, 254720631469]\n",
    "print(phone_no)"
   ]
  },
  {
   "cell_type": "markdown",
   "id": "0d98b1c7-487e-4643-8ddc-2783434d2c88",
   "metadata": {},
   "source": [
    "### Accessing items in a list\n",
    "* Lists are ordered collections and i can access individual items in a list by telling python the position of that item in a list.\n",
    "* the position of an item in a list is referred to as *index*.\n",
    "**syntax** to access an item in a list:\n",
    "```list_name[index]```\n",
    "    "
   ]
  },
  {
   "cell_type": "code",
   "execution_count": 8,
   "id": "3a895e1b-faf7-4302-bfe9-3850fb9a02f1",
   "metadata": {
    "tags": []
   },
   "outputs": [
    {
     "name": "stdout",
     "output_type": "stream",
     "text": [
      "['Mango', 'Apple', 'Pear', 'Orange']\n"
     ]
    },
    {
     "data": {
      "text/plain": [
       "'Mango'"
      ]
     },
     "execution_count": 8,
     "metadata": {},
     "output_type": "execute_result"
    }
   ],
   "source": [
    "print(fruits)\n",
    "fruits[1]  #index numbering start from zero. \n",
    "\n",
    "fruits[2].upper()  # change case\n",
    "\n",
    "fruits[-1]  #using negative indexing\n",
    "fruits[-4]"
   ]
  },
  {
   "cell_type": "code",
   "execution_count": 13,
   "id": "729fb217-0268-48e1-beee-8bbb82d54ec6",
   "metadata": {
    "tags": []
   },
   "outputs": [
    {
     "name": "stdout",
     "output_type": "stream",
     "text": [
      "Linda likes Pear, especially ripe ones.\n"
     ]
    },
    {
     "data": {
      "text/plain": [
       "'Linda likes both Pears and Apples.'"
      ]
     },
     "execution_count": 13,
     "metadata": {},
     "output_type": "execute_result"
    }
   ],
   "source": [
    "#using individual items in a list\n",
    "message = f\"Linda likes {fruits[-2]}, especially ripe ones.\"\n",
    "print(message)\n",
    "\n",
    "message_2 = f\"Linda likes both {fruits[-2]}s and {fruits[1]}s.\"\n",
    "(message_2)"
   ]
  },
  {
   "cell_type": "markdown",
   "id": "f107dc55-b164-4916-9374-a5d16b0ce65e",
   "metadata": {},
   "source": [
    "### Modifying, adding, and Removing elements in a list\n",
    "* Lists are dynamic"
   ]
  },
  {
   "cell_type": "code",
   "execution_count": 17,
   "id": "6a0572ff-b15c-4a87-a401-f50da26d66eb",
   "metadata": {
    "tags": []
   },
   "outputs": [
    {
     "data": {
      "text/plain": [
       "['Supreme', 'High Court']"
      ]
     },
     "execution_count": 17,
     "metadata": {},
     "output_type": "execute_result"
    }
   ],
   "source": [
    "## Modifying items in a list\n",
    "\n",
    "courts = [\"Supreme\", \"High coat\"]\n",
    "(courts)\n",
    "\n",
    "### modify elements in a list\n",
    "\n",
    "courts[1] = \"High Court\"\n",
    "(courts)\n"
   ]
  },
  {
   "cell_type": "code",
   "execution_count": 24,
   "id": "54d84984-119f-4b41-a517-17c32511b424",
   "metadata": {
    "tags": []
   },
   "outputs": [
    {
     "name": "stdout",
     "output_type": "stream",
     "text": [
      "['Supreme', 'High Court', 'Magistrate Court', 'Magistrate Court', 'Magistrate Court', 'Magistrate Court', 'Magistrate Court', 'Magistrate Court']\n"
     ]
    }
   ],
   "source": [
    "## Adding items to a list\n",
    "\n",
    "#1. Adding elements at the end of a list: .append(item)\n",
    "courts.append(\"Magistrate Court\")\n",
    "print(courts)"
   ]
  },
  {
   "cell_type": "code",
   "execution_count": 21,
   "id": "f4cc9050-b11a-4dbe-a405-f5714dc77212",
   "metadata": {
    "tags": []
   },
   "outputs": [
    {
     "data": {
      "text/plain": [
       "['Mango', 'Apple', 'Pear', 'Orange', 'Paw-paw', 'Paw-paw']"
      ]
     },
     "execution_count": 21,
     "metadata": {},
     "output_type": "execute_result"
    }
   ],
   "source": [
    "## Adding items to a list\n",
    "\n",
    "#1. Adding elements at the end of a list: .append(item)\n",
    "fruits.append(\"Paw-paw\")\n",
    "(fruits)"
   ]
  },
  {
   "cell_type": "code",
   "execution_count": 29,
   "id": "698b9d7d-0c0f-4d94-b656-56ef66988258",
   "metadata": {
    "tags": []
   },
   "outputs": [
    {
     "data": {
      "text/plain": [
       "['Supreme',\n",
       " 'Court of appeal',\n",
       " 'Court of appeal',\n",
       " 'Court of appeal',\n",
       " 'Court of appeal',\n",
       " 'Court of appeal',\n",
       " 'High Court',\n",
       " 'Magistrate Court',\n",
       " 'Magistrate Court',\n",
       " 'Magistrate Court',\n",
       " 'Magistrate Court',\n",
       " 'Magistrate Court',\n",
       " 'Magistrate Court']"
      ]
     },
     "execution_count": 29,
     "metadata": {},
     "output_type": "execute_result"
    }
   ],
   "source": [
    "## Insert an item into a list in a specific position\n",
    "#**syntax**  .insert(index, \"item\")\n",
    "\n",
    "courts.insert(1, \"Court of appeal\")\n",
    "(courts)"
   ]
  },
  {
   "cell_type": "markdown",
   "id": "6ef757ee-00c6-41a4-8a45-53426a09782c",
   "metadata": {},
   "source": [
    "## display the items in a list with their indexes\n",
    "# syntax enumerate()\n"
   ]
  },
  {
   "cell_type": "code",
   "execution_count": 32,
   "id": "4edcd4c9-0e1e-4a6d-adaa-0cdc81f257df",
   "metadata": {
    "tags": []
   },
   "outputs": [
    {
     "data": {
      "text/plain": [
       "['Mango', 'Apple', 'Pear', 'Orange', 'Paw-paw']"
      ]
     },
     "execution_count": 32,
     "metadata": {},
     "output_type": "execute_result"
    }
   ],
   "source": [
    "(fruits)"
   ]
  },
  {
   "cell_type": "code",
   "execution_count": 35,
   "id": "84722dd2-860f-4fcb-9303-e5521f8a122b",
   "metadata": {
    "tags": []
   },
   "outputs": [
    {
     "data": {
      "text/plain": [
       "['Mango', 'Apple']"
      ]
     },
     "execution_count": 35,
     "metadata": {},
     "output_type": "execute_result"
    }
   ],
   "source": [
    "## removing items in a list\n",
    "\n",
    "#1. using  .pop() to remove items at the end of a list\n",
    "fruits.pop()\n",
    "(fruits)"
   ]
  },
  {
   "cell_type": "code",
   "execution_count": 37,
   "id": "bd1ec736-6591-46a7-832e-bb91fdd68b7b",
   "metadata": {
    "tags": []
   },
   "outputs": [
    {
     "data": {
      "text/plain": [
       "['Mango']"
      ]
     },
     "execution_count": 37,
     "metadata": {},
     "output_type": "execute_result"
    }
   ],
   "source": [
    "#2. use  .pop(index) to remove an ityem in a particular position\n",
    "\n",
    "fruits.pop(1)\n",
    "(fruits)"
   ]
  },
  {
   "cell_type": "code",
   "execution_count": 40,
   "id": "68909c19-1874-4961-bea9-5843da367d01",
   "metadata": {
    "tags": []
   },
   "outputs": [
    {
     "name": "stdout",
     "output_type": "stream",
     "text": [
      "['Supreme', 'Court of appeal', 'Court of appeal', 'Court of appeal', 'Court of appeal', 'High Court', 'Magistrate Court', 'Magistrate Court', 'Magistrate Court', 'Magistrate Court', 'Magistrate Court', 'Magistrate Court']\n"
     ]
    }
   ],
   "source": [
    "print(courts)"
   ]
  },
  {
   "cell_type": "code",
   "execution_count": 41,
   "id": "bd918949-ce8e-4201-b695-99741f39a258",
   "metadata": {
    "tags": []
   },
   "outputs": [
    {
     "data": {
      "text/plain": [
       "'Magistrate Court'"
      ]
     },
     "execution_count": 41,
     "metadata": {},
     "output_type": "execute_result"
    }
   ],
   "source": [
    "courts.pop(7)"
   ]
  },
  {
   "cell_type": "code",
   "execution_count": 49,
   "id": "453bbd10-ecc9-4721-b698-2325c7bd4c77",
   "metadata": {
    "tags": []
   },
   "outputs": [
    {
     "data": {
      "text/plain": [
       "['Supreme', 'Court of appeal', 'High Court', 'Magistrate Court']"
      ]
     },
     "execution_count": 49,
     "metadata": {},
     "output_type": "execute_result"
    }
   ],
   "source": [
    "#3. use .remove(item_value) to remove item by value\n",
    "courts.remove(\"Magistrate Court\")\n",
    "(courts)"
   ]
  },
  {
   "cell_type": "code",
   "execution_count": 51,
   "id": "3d893d21-b660-4d59-9456-c2411808861a",
   "metadata": {
    "tags": []
   },
   "outputs": [
    {
     "data": {
      "text/plain": [
       "['Supreme', 'High Court', 'Magistrate Court']"
      ]
     },
     "execution_count": 51,
     "metadata": {},
     "output_type": "execute_result"
    }
   ],
   "source": [
    "## using del statement to remove items in a list\n",
    "# **syntax** del list_name[index]\n",
    "\n",
    "del courts[1]\n",
    "(courts)"
   ]
  },
  {
   "cell_type": "code",
   "execution_count": 13,
   "id": "f16d26f7-d77b-476e-a671-4d6347357ec2",
   "metadata": {
    "tags": []
   },
   "outputs": [
    {
     "data": {
      "text/plain": [
       "'ORANGES'"
      ]
     },
     "execution_count": 13,
     "metadata": {},
     "output_type": "execute_result"
    }
   ],
   "source": [
    "fruits = [\"Mango\", [\"Pawpaw\", \"oranges\"], \"Guava\"]\n",
    "\n",
    "fruits[1][1].upper()\n"
   ]
  },
  {
   "cell_type": "code",
   "execution_count": 14,
   "id": "c75934c8-2eb8-4659-a267-78245e25cab7",
   "metadata": {
    "tags": []
   },
   "outputs": [
    {
     "name": "stdout",
     "output_type": "stream",
     "text": [
      "Present\n"
     ]
    }
   ],
   "source": [
    "noise_makers = [\"Kocheli\", \"Kirui\", \"Nyambane\", \"Jarso\"]\n",
    "\n",
    "#checkimg items in a list\n",
    "\n",
    "if \"Kocheli\" in noise_makers:\n",
    "    print(\"Present\")"
   ]
  },
  {
   "cell_type": "code",
   "execution_count": 22,
   "id": "8616f1e9-923c-441d-ba14-6eb9ba809925",
   "metadata": {
    "tags": []
   },
   "outputs": [
    {
     "name": "stdout",
     "output_type": "stream",
     "text": [
      "['Kocheli', 'Kirui', 'Nyambane', 'Jarso', 'Pampido', 'Solo', 'Caro']\n",
      "['Kocheli', 'Kirui', 'Nyambane', 'Jarso', 'Pampido', 'Solo', 'Caro', 'Prof']\n"
     ]
    }
   ],
   "source": [
    "#additional items not in list\n",
    "print(noise_makers)\n",
    "if \"Prof\" in noise_makers:\n",
    "    print(\"Present\")\n",
    "else: \n",
    "        noise_makers.append(\"Prof\")\n",
    "        print(noise_makers)\n",
    "        "
   ]
  },
  {
   "cell_type": "code",
   "execution_count": 23,
   "id": "e49c4809-158d-47fd-8773-a2eeec7e8bf6",
   "metadata": {
    "tags": []
   },
   "outputs": [
    {
     "name": "stdout",
     "output_type": "stream",
     "text": [
      "List corrupted\n"
     ]
    }
   ],
   "source": [
    "#checking if item not in a list\n",
    "\n",
    "if \"Eugene\" not in noise_makers:\n",
    "    print(\"List corrupted\")"
   ]
  },
  {
   "cell_type": "code",
   "execution_count": 28,
   "id": "863e3162-3480-4f6e-80a6-a23b0750bf0c",
   "metadata": {
    "tags": []
   },
   "outputs": [
    {
     "data": {
      "text/plain": [
       "'Eugene'"
      ]
     },
     "execution_count": 28,
     "metadata": {},
     "output_type": "execute_result"
    }
   ],
   "source": [
    "noise_makers.pop(0)"
   ]
  },
  {
   "cell_type": "code",
   "execution_count": 29,
   "id": "670a38b7-1134-432e-a1d8-d9792142ce95",
   "metadata": {
    "tags": []
   },
   "outputs": [
    {
     "name": "stdout",
     "output_type": "stream",
     "text": [
      "['Eugene', 'Kocheli', 'Kirui', 'Nyambane', 'Jarso', 'Pampido', 'Solo', 'Caro', 'Prof']\n"
     ]
    }
   ],
   "source": [
    "#adding item not in list as first item\n",
    "noise_makers.insert(0, \"Eugene\")\n",
    "print(noise_makers)\n"
   ]
  },
  {
   "cell_type": "code",
   "execution_count": 30,
   "id": "1bca3e1d-d5f7-43e0-8475-969cbcaac5fa",
   "metadata": {
    "tags": []
   },
   "outputs": [
    {
     "data": {
      "text/plain": [
       "9"
      ]
     },
     "execution_count": 30,
     "metadata": {},
     "output_type": "execute_result"
    }
   ],
   "source": [
    "#functions\n",
    "len(noise_makers)"
   ]
  },
  {
   "cell_type": "code",
   "execution_count": null,
   "id": "b9f21297-b8c2-4f08-9e07-2e3d642ecf94",
   "metadata": {},
   "outputs": [],
   "source": [
    "Numbers = [11, 9, 3, 7, 4, 30, 99, 520]\n",
    "#sort to organize\n",
    "\n",
    "print(number.sort())"
   ]
  }
 ],
 "metadata": {
  "kernelspec": {
   "display_name": "Python 3 (ipykernel)",
   "language": "python",
   "name": "python3"
  },
  "language_info": {
   "codemirror_mode": {
    "name": "ipython",
    "version": 3
   },
   "file_extension": ".py",
   "mimetype": "text/x-python",
   "name": "python",
   "nbconvert_exporter": "python",
   "pygments_lexer": "ipython3",
   "version": "3.11.3"
  }
 },
 "nbformat": 4,
 "nbformat_minor": 5
}
